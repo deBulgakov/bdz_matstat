{
 "cells": [
  {
   "cell_type": "code",
   "id": "initial_id",
   "metadata": {
    "collapsed": true,
    "ExecuteTime": {
     "end_time": "2024-10-27T10:19:29.584954Z",
     "start_time": "2024-10-27T10:19:29.531138Z"
    }
   },
   "source": [
    "import pandas as pd\n",
    "import numpy as np\n",
    "import xlrd\n",
    "import scipy.stats as stats\n",
    "from statsmodels.stats.weightstats import ztest\n",
    "import matplotlib.pyplot as plt\n",
    "from scipy.stats import skew, norm, kurtosis\n",
    "xls = pd.ExcelFile(r\"data_matstat.xls\")\n",
    "sheetX = xls.parse(2)\n",
    "var1 = sheetX['B7']\n",
    "X1 = np.array(var1)\n",
    "var2 = sheetX['B8']\n",
    "X2 = np.array(var2)\n",
    "var3 = sheetX['B9']\n",
    "X3 = np.array(var3)\n",
    "np.size(X1), X2, X3"
   ],
   "outputs": [
    {
     "data": {
      "text/plain": [
       "(252,\n",
       " array([67.75, 72.25, 66.25, 72.25, 71.25, 74.75, 69.75, 72.5 , 74.  ,\n",
       "        73.5 , 74.5 , 76.  , 69.5 , 71.25, 69.5 , 66.  , 71.  , 71.  ,\n",
       "        67.75, 73.5 , 68.  , 69.75, 68.25, 70.  , 67.75, 71.5 , 67.5 ,\n",
       "        67.5 , 64.75, 69.  , 73.75, 71.25, 71.25, 71.  , 73.5 , 65.  ,\n",
       "        70.  , 68.25, 72.25, 67.  , 68.75, 29.5 , 70.  , 71.5 , 68.  ,\n",
       "        73.25, 67.5 , 71.25, 68.5 , 66.75, 72.25, 69.  , 67.75, 73.5 ,\n",
       "        67.5 , 72.  , 68.  , 69.5 , 70.75, 65.75, 73.25, 68.5 , 70.25,\n",
       "        67.  , 70.  , 67.5 , 70.75, 71.5 , 69.25, 71.5 , 71.5 , 68.75,\n",
       "        73.75, 64.  , 65.75, 67.5 , 69.5 , 68.5 , 70.25, 69.25, 67.75,\n",
       "        67.25, 72.75, 70.  , 69.25, 67.5 , 67.25, 65.75, 72.5 , 73.  ,\n",
       "        70.  , 69.5 , 70.5 , 71.75, 74.5 , 77.75, 73.25, 66.5 , 68.25,\n",
       "        72.  , 73.5 , 72.  , 71.25, 73.75, 69.25, 68.5 , 73.5 , 74.25,\n",
       "        75.5 , 69.25, 68.5 , 70.  , 70.  , 70.25, 71.75, 69.25, 72.75,\n",
       "        72.  , 74.  , 72.25, 74.5 , 71.5 , 68.75, 66.75, 66.5 , 67.  ,\n",
       "        68.75, 67.75, 73.25, 69.75, 71.5 , 70.5 , 73.25, 66.75, 69.5 ,\n",
       "        69.75, 70.75, 74.  , 71.25, 75.  , 71.  , 69.5 , 67.75, 72.25,\n",
       "        77.5 , 70.75, 72.75, 69.75, 72.5 , 70.25, 69.  , 74.5 , 72.25,\n",
       "        67.25, 73.5 , 75.25, 69.  , 72.25, 68.75, 71.5 , 72.25, 73.  ,\n",
       "        68.75, 70.5 , 72.  , 73.75, 68.  , 72.25, 69.5 , 69.5 , 67.75,\n",
       "        65.5 , 71.  , 71.5 , 71.75, 69.25, 67.  , 71.5 , 69.25, 74.5 ,\n",
       "        74.25, 68.  , 67.25, 69.75, 74.25, 71.5 , 74.25, 72.  , 72.5 ,\n",
       "        68.25, 69.25, 76.  , 70.5 , 74.75, 72.75, 68.25, 69.  , 71.5 ,\n",
       "        72.75, 67.5 , 70.25, 69.25, 71.5 , 74.  , 69.75, 73.  , 65.5 ,\n",
       "        72.5 , 70.25, 70.75, 68.  , 74.5 , 71.75, 70.75, 73.  , 64.  ,\n",
       "        69.75, 70.  , 71.75, 69.25, 70.5 , 72.25, 67.5 , 67.25, 68.75,\n",
       "        66.75, 68.25, 74.25, 69.5 , 68.5 , 65.75, 71.75, 71.5 , 67.25,\n",
       "        67.5 , 67.5 , 72.25, 69.5 , 69.5 , 65.75, 65.75, 68.25, 72.  ,\n",
       "        72.75, 68.5 , 69.25, 70.5 , 67.  , 69.75, 66.  , 70.5 , 70.  ]),\n",
       " array([36.2, 38.5, 34. , 37.4, 34.4, 39. , 36.4, 37.8, 38.1, 42.1, 38.5,\n",
       "        39.4, 38.4, 39.4, 40.5, 36.4, 38.9, 42.1, 38. , 40. , 39.1, 41.3,\n",
       "        33.9, 35.5, 34.5, 35.7, 36.2, 38.8, 36.4, 36.7, 38.7, 37.3, 38.1,\n",
       "        39.8, 42.1, 38.4, 38.5, 42.1, 51.2, 40.2, 43.2, 36.6, 37.3, 41.5,\n",
       "        31.5, 35.7, 33.6, 34.6, 32.8, 34. , 34.9, 34.3, 36.5, 35.1, 37.8,\n",
       "        39.9, 39.1, 40.5, 40.5, 38.4, 41.4, 35.6, 38. , 37.4, 40.1, 40.9,\n",
       "        35.6, 36.9, 37.5, 36.3, 35.5, 38.7, 36.4, 33.2, 36.5, 36. , 38.7,\n",
       "        38.7, 37.8, 37.4, 38.4, 38.1, 39.3, 38.7, 38.5, 36.5, 37.7, 36.5,\n",
       "        38. , 36.7, 37.2, 39.2, 37.5, 38. , 37.3, 41.1, 37.5, 38.7, 35.9,\n",
       "        40. , 40.1, 37. , 36.3, 40.7, 39.6, 31.1, 38.6, 42. , 38.5, 34.2,\n",
       "        37.2, 37.1, 40.2, 35.3, 38. , 36.3, 36.8, 41. , 38.3, 38. , 40.8,\n",
       "        39.5, 36.9, 36.9, 37.7, 36.6, 38.9, 37.5, 39.8, 38.3, 35.5, 36.3,\n",
       "        37.8, 37.8, 36.5, 37.8, 37. , 37.7, 34.3, 40.8, 37.4, 36.5, 37.5,\n",
       "        35.5, 38. , 35.7, 39.2, 40.9, 35.2, 40.6, 35.4, 41.8, 34.1, 37.9,\n",
       "        38.2, 35.6, 38.5, 37. , 35.9, 36.2, 35. , 38.5, 40.7, 36. , 39.5,\n",
       "        40.5, 38.5, 43.9, 40.4, 37.6, 37. , 34. , 38.4, 38.7, 41.5, 36. ,\n",
       "        35.3, 42.1, 38. , 42.8, 40. , 33.8, 35.5, 35.3, 37.7, 39.4, 41.9,\n",
       "        38.5, 40.8, 38. , 36.4, 41.8, 40.7, 38.5, 35.4, 38.5, 35.5, 36.5,\n",
       "        37.6, 37.4, 37.8, 35.2, 37.9, 37.9, 40.9, 41.9, 39.1, 40.2, 36. ,\n",
       "        34.5, 35.8, 40.2, 38.3, 39. , 37.4, 41.2, 34.8, 36.9, 39.4, 37.6,\n",
       "        38.5, 42.5, 37.4, 35.2, 41.1, 33.4, 37.2, 38.3, 38.1, 37.4, 35.2,\n",
       "        39.4, 38. , 35.1, 40.4, 38.3, 40.6, 40.2, 37.9, 40.8, 34.7, 38.8,\n",
       "        41.4, 41.3, 40.7, 36.3, 40.8, 34.9, 40.9, 38.9, 38.9, 40.8]))"
      ]
     },
     "execution_count": 6,
     "metadata": {},
     "output_type": "execute_result"
    }
   ],
   "execution_count": 6
  },
  {
   "metadata": {
    "ExecuteTime": {
     "end_time": "2024-10-27T10:30:06.808870Z",
     "start_time": "2024-10-27T10:30:06.805399Z"
    }
   },
   "cell_type": "code",
   "source": [
    "m1 = np.mean(X1)\n",
    "m1"
   ],
   "id": "d4e96b11acda56c8",
   "outputs": [
    {
     "data": {
      "text/plain": [
       "np.float64(178.92440476190475)"
      ]
     },
     "execution_count": 7,
     "metadata": {},
     "output_type": "execute_result"
    }
   ],
   "execution_count": 7
  },
  {
   "metadata": {
    "ExecuteTime": {
     "end_time": "2024-10-27T10:31:41.708343Z",
     "start_time": "2024-10-27T10:31:41.704638Z"
    }
   },
   "cell_type": "code",
   "source": [
    "m2 = np.mean(X2)\n",
    "m2"
   ],
   "id": "75ee56f53d69c760",
   "outputs": [
    {
     "data": {
      "text/plain": [
       "np.float64(70.14880952380952)"
      ]
     },
     "execution_count": 8,
     "metadata": {},
     "output_type": "execute_result"
    }
   ],
   "execution_count": 8
  },
  {
   "metadata": {
    "ExecuteTime": {
     "end_time": "2024-10-27T10:32:11.752991Z",
     "start_time": "2024-10-27T10:32:11.749407Z"
    }
   },
   "cell_type": "code",
   "source": [
    "m3 = np.mean(X3)\n",
    "m3"
   ],
   "id": "e6d46ad4db55f628",
   "outputs": [
    {
     "data": {
      "text/plain": [
       "np.float64(37.992063492063494)"
      ]
     },
     "execution_count": 9,
     "metadata": {},
     "output_type": "execute_result"
    }
   ],
   "execution_count": 9
  },
  {
   "metadata": {
    "ExecuteTime": {
     "end_time": "2024-10-27T10:33:10.688181Z",
     "start_time": "2024-10-27T10:33:10.683460Z"
    }
   },
   "cell_type": "code",
   "source": [
    "s1 = np.var(X1, ddof=1)\n",
    "s1"
   ],
   "id": "e01b4432d5fb23cc",
   "outputs": [
    {
     "data": {
      "text/plain": [
       "np.float64(863.722718767786)"
      ]
     },
     "execution_count": 10,
     "metadata": {},
     "output_type": "execute_result"
    }
   ],
   "execution_count": 10
  },
  {
   "metadata": {
    "ExecuteTime": {
     "end_time": "2024-10-27T10:33:20.522816Z",
     "start_time": "2024-10-27T10:33:20.519150Z"
    }
   },
   "cell_type": "code",
   "source": [
    "s2 = np.var(X2, ddof=1)\n",
    "s2"
   ],
   "id": "99b90a1261f00b53",
   "outputs": [
    {
     "data": {
      "text/plain": [
       "np.float64(13.416512521343199)"
      ]
     },
     "execution_count": 11,
     "metadata": {},
     "output_type": "execute_result"
    }
   ],
   "execution_count": 11
  },
  {
   "metadata": {
    "ExecuteTime": {
     "end_time": "2024-10-27T10:33:53.613707Z",
     "start_time": "2024-10-27T10:33:53.609827Z"
    }
   },
   "cell_type": "code",
   "source": [
    "s3 = np.var(X3, ddof=1)\n",
    "s3"
   ],
   "id": "63fcc10eb5dac05d",
   "outputs": [
    {
     "data": {
      "text/plain": [
       "np.float64(5.909339151331183)"
      ]
     },
     "execution_count": 12,
     "metadata": {},
     "output_type": "execute_result"
    }
   ],
   "execution_count": 12
  },
  {
   "metadata": {
    "ExecuteTime": {
     "end_time": "2024-10-27T10:34:17.123289Z",
     "start_time": "2024-10-27T10:34:17.119877Z"
    }
   },
   "cell_type": "code",
   "source": [
    "s1 = np.std(X1, ddof=1)\n",
    "s1"
   ],
   "id": "990c91ec4b8eff96",
   "outputs": [
    {
     "data": {
      "text/plain": [
       "np.float64(29.38915988536906)"
      ]
     },
     "execution_count": 13,
     "metadata": {},
     "output_type": "execute_result"
    }
   ],
   "execution_count": 13
  },
  {
   "metadata": {
    "ExecuteTime": {
     "end_time": "2024-10-27T10:34:35.160308Z",
     "start_time": "2024-10-27T10:34:35.156539Z"
    }
   },
   "cell_type": "code",
   "source": [
    "s2 = np.std(X2, ddof=1)\n",
    "s2"
   ],
   "id": "817e06bf4112928c",
   "outputs": [
    {
     "data": {
      "text/plain": [
       "np.float64(3.6628557876803174)"
      ]
     },
     "execution_count": 14,
     "metadata": {},
     "output_type": "execute_result"
    }
   ],
   "execution_count": 14
  },
  {
   "metadata": {
    "ExecuteTime": {
     "end_time": "2024-10-27T10:34:49.415530Z",
     "start_time": "2024-10-27T10:34:49.411752Z"
    }
   },
   "cell_type": "code",
   "source": [
    "s3 = np.std(X3, ddof=1)\n",
    "s3"
   ],
   "id": "b233496ea91af2ea",
   "outputs": [
    {
     "data": {
      "text/plain": [
       "np.float64(2.430913234019508)"
      ]
     },
     "execution_count": 15,
     "metadata": {},
     "output_type": "execute_result"
    }
   ],
   "execution_count": 15
  },
  {
   "metadata": {
    "ExecuteTime": {
     "end_time": "2024-10-27T10:35:14.121601Z",
     "start_time": "2024-10-27T10:35:14.117565Z"
    }
   },
   "cell_type": "code",
   "source": "skew(X1)",
   "id": "6d9ede35226dd9af",
   "outputs": [
    {
     "data": {
      "text/plain": [
       "np.float64(1.19807685393159)"
      ]
     },
     "execution_count": 16,
     "metadata": {},
     "output_type": "execute_result"
    }
   ],
   "execution_count": 16
  },
  {
   "metadata": {
    "ExecuteTime": {
     "end_time": "2024-10-27T10:35:33.039161Z",
     "start_time": "2024-10-27T10:35:33.035341Z"
    }
   },
   "cell_type": "code",
   "source": "skew(X2)",
   "id": "975293cd8df46888",
   "outputs": [
    {
     "data": {
      "text/plain": [
       "np.float64(-5.35287990609036)"
      ]
     },
     "execution_count": 17,
     "metadata": {},
     "output_type": "execute_result"
    }
   ],
   "execution_count": 17
  },
  {
   "metadata": {
    "ExecuteTime": {
     "end_time": "2024-10-27T10:35:53.046755Z",
     "start_time": "2024-10-27T10:35:53.043105Z"
    }
   },
   "cell_type": "code",
   "source": "skew(X3)",
   "id": "7d53ed2f4b3518f4",
   "outputs": [
    {
     "data": {
      "text/plain": [
       "np.float64(0.5493250809833784)"
      ]
     },
     "execution_count": 18,
     "metadata": {},
     "output_type": "execute_result"
    }
   ],
   "execution_count": 18
  },
  {
   "metadata": {
    "ExecuteTime": {
     "end_time": "2024-10-27T10:36:45.257347Z",
     "start_time": "2024-10-27T10:36:45.253433Z"
    }
   },
   "cell_type": "code",
   "source": "kurtosis(X1)",
   "id": "5682267ac77d9bee",
   "outputs": [
    {
     "data": {
      "text/plain": [
       "np.float64(5.1418235777488555)"
      ]
     },
     "execution_count": 19,
     "metadata": {},
     "output_type": "execute_result"
    }
   ],
   "execution_count": 19
  },
  {
   "metadata": {
    "ExecuteTime": {
     "end_time": "2024-10-27T10:37:08.773660Z",
     "start_time": "2024-10-27T10:37:08.769607Z"
    }
   },
   "cell_type": "code",
   "source": "kurtosis(X2)",
   "id": "923f5f13e2de9f98",
   "outputs": [
    {
     "data": {
      "text/plain": [
       "np.float64(58.34569713021567)"
      ]
     },
     "execution_count": 20,
     "metadata": {},
     "output_type": "execute_result"
    }
   ],
   "execution_count": 20
  },
  {
   "metadata": {
    "ExecuteTime": {
     "end_time": "2024-10-27T10:37:22.015452Z",
     "start_time": "2024-10-27T10:37:22.011809Z"
    }
   },
   "cell_type": "code",
   "source": "kurtosis(X3)",
   "id": "9a663389e7acc79b",
   "outputs": [
    {
     "data": {
      "text/plain": [
       "np.float64(2.6422379931727065)"
      ]
     },
     "execution_count": 21,
     "metadata": {},
     "output_type": "execute_result"
    }
   ],
   "execution_count": 21
  },
  {
   "metadata": {
    "ExecuteTime": {
     "end_time": "2024-10-27T10:40:48.141505Z",
     "start_time": "2024-10-27T10:40:48.138779Z"
    }
   },
   "cell_type": "code",
   "source": [
    "var = sheetX['B7']\n",
    "X = np.array(var)"
   ],
   "id": "bea1d94598c1d885",
   "outputs": [],
   "execution_count": 23
  },
  {
   "metadata": {
    "ExecuteTime": {
     "end_time": "2024-10-27T10:40:49.100961Z",
     "start_time": "2024-10-27T10:40:49.097195Z"
    }
   },
   "cell_type": "code",
   "source": [
    "hist, bin_edges = np.histogram(X, bins=9)\n",
    "bin_edges"
   ],
   "id": "b7e85ec433723c3c",
   "outputs": [
    {
     "data": {
      "text/plain": [
       "array([118.5       , 145.68333333, 172.86666667, 200.05      ,\n",
       "       227.23333333, 254.41666667, 281.6       , 308.78333333,\n",
       "       335.96666667, 363.15      ])"
      ]
     },
     "execution_count": 24,
     "metadata": {},
     "output_type": "execute_result"
    }
   ],
   "execution_count": 24
  },
  {
   "metadata": {
    "ExecuteTime": {
     "end_time": "2024-10-27T11:15:32.014396Z",
     "start_time": "2024-10-27T11:15:32.009742Z"
    }
   },
   "cell_type": "code",
   "source": [
    "stored, stored1 = 0, 0\n",
    "Xf, Xf1, Xf2 = [], [], []\n",
    "count = 0\n",
    "for i in range(9):\n",
    "    arr = X[bin_edges[i] <= X]\n",
    "    arr1 = arr[arr < bin_edges[i + 1]]\n",
    "    if i == 8:\n",
    "        arr = X[bin_edges[i] <= X]\n",
    "        arr1 = arr[arr <= bin_edges[i + 1]]\n",
    "    stored += len(arr1)\n",
    "    stored1 += round(len(arr1)/len(X), 3)\n",
    "    Xf.append(stored)\n",
    "    Xf1.append(stored1)\n",
    "    Xf2.append(len(arr1))\n",
    "    count += 1\n",
    "    print(count, round(bin_edges[i], 2), round(bin_edges[i+1], 2), len(arr1),\n",
    "          round(len(arr1)/len(X), 3), stored, round(stored1, 3))\n",
    "print((max(X)-min(X))/9)"
   ],
   "id": "8a0c80fc889b27d9",
   "outputs": [
    {
     "name": "stdout",
     "output_type": "stream",
     "text": [
      "1 118.5 145.68 23 0.091 23 0.091\n",
      "2 145.68 172.87 94 0.373 117 0.464\n",
      "3 172.87 200.05 79 0.313 196 0.777\n",
      "4 200.05 227.23 44 0.175 240 0.952\n",
      "5 227.23 254.42 10 0.04 250 0.992\n",
      "6 254.42 281.6 1 0.004 251 0.996\n",
      "7 281.6 308.78 0 0.0 251 0.996\n",
      "8 308.78 335.97 0 0.0 251 0.996\n",
      "9 335.97 363.15 1 0.004 252 1.0\n",
      "27.18333333333333\n"
     ]
    }
   ],
   "execution_count": 74
  },
  {
   "metadata": {
    "ExecuteTime": {
     "end_time": "2024-10-27T10:45:35.718933Z",
     "start_time": "2024-10-27T10:45:35.649165Z"
    }
   },
   "cell_type": "code",
   "source": [
    "import matplotlib.pyplot as plt\n",
    "%matplotlib inline\n",
    "a,bins,_ = plt.hist(X, density=False, edgecolor='black',bins=9)\n",
    "x = np.append([0], a)\n",
    "x = np.append(x, [0])\n",
    "width = (X.max() - X.min())/9\n",
    "bins = np.append([bins[0] - width], bins)\n",
    "y = bins + width / 2\n",
    "plt.plot(y, x,'go--')\n",
    "plt.show()"
   ],
   "id": "20a51978fb3409b7",
   "outputs": [
    {
     "data": {
      "text/plain": [
       "<Figure size 640x480 with 1 Axes>"
      ],
      "image/png": "[encoded data removed]"
     },
     "metadata": {},
     "output_type": "display_data"
    }
   ],
   "execution_count": 48
  },
  {
   "metadata": {
    "ExecuteTime": {
     "end_time": "2024-10-27T10:45:39.242852Z",
     "start_time": "2024-10-27T10:45:39.164342Z"
    }
   },
   "cell_type": "code",
   "source": [
    "a,bins,_ = plt.hist(X, density=False, edgecolor='black', weights=np.ones_like(X)/len(X),bins=9)\n",
    "x = np.append([0], a)\n",
    "x = np.append(x, [0])\n",
    "width = (X.max() - X.min())/9\n",
    "bins = np.append([bins[0] - width], bins)\n",
    "y = bins + width / 2\n",
    "plt.plot(y, x,'go--')\n",
    "plt.show()"
   ],
   "id": "a070ff07b67c5b2e",
   "outputs": [
    {
     "data": {
      "text/plain": [
       "<Figure size 640x480 with 1 Axes>"
      ],
      "image/png": "[encoded data removed]"
     },
     "metadata": {},
     "output_type": "display_data"
    }
   ],
   "execution_count": 49
  },
  {
   "metadata": {
    "ExecuteTime": {
     "end_time": "2024-10-27T10:45:44.627659Z",
     "start_time": "2024-10-27T10:45:44.561370Z"
    }
   },
   "cell_type": "code",
   "source": [
    "a, bins, _ = plt.hist(bins[:-2], density=False, weights=Xf, edgecolor='black', bins=9)\n",
    "x = np.append([0], a)\n",
    "plt.plot(bins, x,'go--')\n",
    "plt.show()"
   ],
   "id": "617fd6c37e079341",
   "outputs": [
    {
     "data": {
      "text/plain": [
       "<Figure size 640x480 with 1 Axes>"
      ],
      "image/png": "[encoded data removed]"
     },
     "metadata": {},
     "output_type": "display_data"
    }
   ],
   "execution_count": 50
  },
  {
   "metadata": {
    "ExecuteTime": {
     "end_time": "2024-10-27T10:45:57.200788Z",
     "start_time": "2024-10-27T10:45:57.126027Z"
    }
   },
   "cell_type": "code",
   "source": [
    "a, bins, _ = plt.hist(bins[:-1], density=False, weights=Xf1, edgecolor='black', bins=9)\n",
    "x = np.append([0], a)\n",
    "plt.plot(bins, x, 'go--')\n",
    "plt.show()"
   ],
   "id": "5b3c0f7727a52bde",
   "outputs": [
    {
     "data": {
      "text/plain": [
       "<Figure size 640x480 with 1 Axes>"
      ],
      "image/png": "[encoded data removed]"
     },
     "metadata": {},
     "output_type": "display_data"
    }
   ],
   "execution_count": 51
  },
  {
   "metadata": {},
   "cell_type": "markdown",
   "source": "",
   "id": "c5e9560eb437d251"
  },
  {
   "metadata": {
    "ExecuteTime": {
     "end_time": "2024-10-27T10:46:09.678170Z",
     "start_time": "2024-10-27T10:46:09.606027Z"
    }
   },
   "cell_type": "code",
   "source": "plt.plot(np.sort(X), np.linspace(0, 1, len(X), endpoint=False))",
   "id": "5df71509f261aafe",
   "outputs": [
    {
     "data": {
      "text/plain": [
       "[<matplotlib.lines.Line2D at 0x20a07d5a5d0>]"
      ]
     },
     "execution_count": 52,
     "metadata": {},
     "output_type": "execute_result"
    },
    {
     "data": {
      "text/plain": [
       "<Figure size 640x480 with 1 Axes>"
      ],
      "image/png": "[encoded data removed]"
     },
     "metadata": {},
     "output_type": "display_data"
    }
   ],
   "execution_count": 52
  },
  {
   "metadata": {
    "ExecuteTime": {
     "end_time": "2024-10-27T11:01:34.204864Z",
     "start_time": "2024-10-27T11:01:34.200435Z"
    }
   },
   "cell_type": "code",
   "source": [
    "import scipy.stats as st\n",
    "np.std(X, ddof=1)/np.sqrt(X.shape[0]), st.sem(X)"
   ],
   "id": "833534ae4bacb1e",
   "outputs": [
    {
     "data": {
      "text/plain": [
       "(np.float64(1.8513430547095728), np.float64(1.8513430547095728))"
      ]
     },
     "execution_count": 56,
     "metadata": {},
     "output_type": "execute_result"
    }
   ],
   "execution_count": 56
  },
  {
   "metadata": {
    "ExecuteTime": {
     "end_time": "2024-10-27T11:04:02.156599Z",
     "start_time": "2024-10-27T11:04:02.151806Z"
    }
   },
   "cell_type": "code",
   "source": [
    "var = sheetX['B7']\n",
    "X = np.array(var)\n",
    "st.t.interval(confidence=0.99, df=len(X)-1,\n",
    "              loc=np.mean(X),\n",
    "              scale=st.sem(X))"
   ],
   "id": "2d01cd26034dafcc",
   "outputs": [
    {
     "data": {
      "text/plain": [
       "(np.float64(174.1191362157695), np.float64(183.72967330804002))"
      ]
     },
     "execution_count": 57,
     "metadata": {},
     "output_type": "execute_result"
    }
   ],
   "execution_count": 57
  },
  {
   "metadata": {
    "ExecuteTime": {
     "end_time": "2024-10-27T11:04:40.217408Z",
     "start_time": "2024-10-27T11:04:40.213400Z"
    }
   },
   "cell_type": "code",
   "source": [
    "st.t.interval(confidence=0.95, df=len(X)-1,\n",
    "              loc=np.mean(X),\n",
    "              scale=st.sem(X))"
   ],
   "id": "b5782a46b702cf64",
   "outputs": [
    {
     "data": {
      "text/plain": [
       "(np.float64(175.27825824870723), np.float64(182.57055127510228))"
      ]
     },
     "execution_count": 58,
     "metadata": {},
     "output_type": "execute_result"
    }
   ],
   "execution_count": 58
  },
  {
   "metadata": {
    "ExecuteTime": {
     "end_time": "2024-10-27T11:05:08.780946Z",
     "start_time": "2024-10-27T11:05:08.776809Z"
    }
   },
   "cell_type": "code",
   "source": [
    "st.t.interval(confidence=0.9, df=len(X)-1,\n",
    "              loc=np.mean(X),\n",
    "              scale=st.sem(X))"
   ],
   "id": "53eee33390790bfd",
   "outputs": [
    {
     "data": {
      "text/plain": [
       "(np.float64(175.86793545313094), np.float64(181.98087407067857))"
      ]
     },
     "execution_count": 59,
     "metadata": {},
     "output_type": "execute_result"
    }
   ],
   "execution_count": 59
  },
  {
   "metadata": {
    "ExecuteTime": {
     "end_time": "2024-10-27T11:06:19.629584Z",
     "start_time": "2024-10-27T11:06:19.622542Z"
    }
   },
   "cell_type": "code",
   "source": [
    "x, y = np.reciprocal(st.chi2.interval(confidence=0.99, df=len(X)-1)) * (len(X) - 1) * np.var(X, ddof=1)\n",
    "y, x"
   ],
   "id": "c9398d97a1ece3df",
   "outputs": [
    {
     "data": {
      "text/plain": [
       "(np.float64(693.8281003336714), np.float64(1100.2249405313319))"
      ]
     },
     "execution_count": 60,
     "metadata": {},
     "output_type": "execute_result"
    }
   ],
   "execution_count": 60
  },
  {
   "metadata": {
    "ExecuteTime": {
     "end_time": "2024-10-27T11:06:47.319694Z",
     "start_time": "2024-10-27T11:06:47.315622Z"
    }
   },
   "cell_type": "code",
   "source": [
    "x, y = np.reciprocal(st.chi2.interval(confidence=0.95, df=len(X)-1)) * (len(X) - 1) * np.var(X, ddof=1)\n",
    "y, x"
   ],
   "id": "1daaf3a9a28d51e1",
   "outputs": [
    {
     "data": {
      "text/plain": [
       "(np.float64(730.4977952264348), np.float64(1037.2432856751789))"
      ]
     },
     "execution_count": 61,
     "metadata": {},
     "output_type": "execute_result"
    }
   ],
   "execution_count": 61
  },
  {
   "metadata": {
    "ExecuteTime": {
     "end_time": "2024-10-27T11:07:09.282322Z",
     "start_time": "2024-10-27T11:07:09.278304Z"
    }
   },
   "cell_type": "code",
   "source": [
    "x, y = np.reciprocal(st.chi2.interval(confidence=0.9, df=len(X)-1)) * (len(X) - 1) * np.var(X, ddof=1)\n",
    "y, x"
   ],
   "id": "196f80fb1678fa1d",
   "outputs": [
    {
     "data": {
      "text/plain": [
       "(np.float64(750.2703123766483), np.float64(1006.8567715623803))"
      ]
     },
     "execution_count": 62,
     "metadata": {},
     "output_type": "execute_result"
    }
   ],
   "execution_count": 62
  },
  {
   "metadata": {
    "ExecuteTime": {
     "end_time": "2024-10-27T11:08:30.002137Z",
     "start_time": "2024-10-27T11:08:29.999273Z"
    }
   },
   "cell_type": "code",
   "source": [
    "var1, var2 = sheetX['B11'], sheetX['B12']\n",
    "X1 = np.array(var1)\n",
    "X2 = np.array(var2)"
   ],
   "id": "37d12e98f0bf29cd",
   "outputs": [],
   "execution_count": 63
  },
  {
   "metadata": {
    "ExecuteTime": {
     "end_time": "2024-10-27T11:08:43.939953Z",
     "start_time": "2024-10-27T11:08:43.935466Z"
    }
   },
   "cell_type": "code",
   "source": [
    "st.t.interval(confidence=0.99, df=len(X1) + len(X2) - 2,\n",
    "              loc=(np.mean(X1) - np.mean(X2)),\n",
    "              scale=np.sqrt(st.sem(X1) ** 2 + st.sem(X2) ** 2))"
   ],
   "id": "76333a03a6d7044d",
   "outputs": [
    {
     "data": {
      "text/plain": [
       "(np.float64(-9.457466299259718), np.float64(-5.240152748359325))"
      ]
     },
     "execution_count": 64,
     "metadata": {},
     "output_type": "execute_result"
    }
   ],
   "execution_count": 64
  },
  {
   "metadata": {
    "ExecuteTime": {
     "end_time": "2024-10-27T11:09:17.107304Z",
     "start_time": "2024-10-27T11:09:17.101639Z"
    }
   },
   "cell_type": "code",
   "source": [
    "st.t.interval(confidence=0.95, df=len(X1) + len(X2) - 2,\n",
    "              loc=(np.mean(X1) - np.mean(X2)),\n",
    "              scale=np.sqrt(st.sem(X1) ** 2 + st.sem(X2) ** 2))"
   ],
   "id": "75ca4e634e97d389",
   "outputs": [
    {
     "data": {
      "text/plain": [
       "(np.float64(-8.951062854992152), np.float64(-5.746556192626891))"
      ]
     },
     "execution_count": 65,
     "metadata": {},
     "output_type": "execute_result"
    }
   ],
   "execution_count": 65
  },
  {
   "metadata": {
    "ExecuteTime": {
     "end_time": "2024-10-27T11:09:36.973044Z",
     "start_time": "2024-10-27T11:09:36.968091Z"
    }
   },
   "cell_type": "code",
   "source": [
    "st.t.interval(confidence=0.9, df=len(X1) + len(X2) - 2,\n",
    "              loc=(np.mean(X1) - np.mean(X2)),\n",
    "              scale=np.sqrt(st.sem(X1) ** 2 + st.sem(X2) ** 2))"
   ],
   "id": "b3299d4119935030",
   "outputs": [
    {
     "data": {
      "text/plain": [
       "(np.float64(-8.692701000536662), np.float64(-6.004918047082381))"
      ]
     },
     "execution_count": 66,
     "metadata": {},
     "output_type": "execute_result"
    }
   ],
   "execution_count": 66
  },
  {
   "metadata": {
    "ExecuteTime": {
     "end_time": "2024-10-27T11:11:06.626736Z",
     "start_time": "2024-10-27T11:11:06.622352Z"
    }
   },
   "cell_type": "code",
   "source": [
    "st.f.interval(confidence=0.99, dfn=len(X1) - 1, dfd=len(X2) - 1,\n",
    "              scale=np.var(X1, ddof=1) / np.var(X2, ddof=1))"
   ],
   "id": "2e805ff35ccba81d",
   "outputs": [
    {
     "data": {
      "text/plain": [
       "(np.float64(1.6349149561534206), np.float64(3.1393470928901537))"
      ]
     },
     "execution_count": 67,
     "metadata": {},
     "output_type": "execute_result"
    }
   ],
   "execution_count": 67
  },
  {
   "metadata": {
    "ExecuteTime": {
     "end_time": "2024-10-27T11:11:42.195886Z",
     "start_time": "2024-10-27T11:11:42.191922Z"
    }
   },
   "cell_type": "code",
   "source": [
    "st.f.interval(confidence=0.95, dfn=len(X1) - 1, dfd=len(X2) - 1,\n",
    "              scale=np.var(X1, ddof=1) / np.var(X2, ddof=1))"
   ],
   "id": "dd3896bcfb63249e",
   "outputs": [
    {
     "data": {
      "text/plain": [
       "(np.float64(1.76794223145054), np.float64(2.9031296517600405))"
      ]
     },
     "execution_count": 68,
     "metadata": {},
     "output_type": "execute_result"
    }
   ],
   "execution_count": 68
  },
  {
   "metadata": {
    "ExecuteTime": {
     "end_time": "2024-10-27T11:12:06.250882Z",
     "start_time": "2024-10-27T11:12:06.247159Z"
    }
   },
   "cell_type": "code",
   "source": [
    "st.f.interval(confidence=0.9, dfn=len(X1) - 1, dfd=len(X2) - 1,\n",
    "              scale=np.var(X1, ddof=1) / np.var(X2, ddof=1))"
   ],
   "id": "834d9bde422f080b",
   "outputs": [
    {
     "data": {
      "text/plain": [
       "(np.float64(1.8399979875400239), np.float64(2.789440830630925))"
      ]
     },
     "execution_count": 69,
     "metadata": {},
     "output_type": "execute_result"
    }
   ],
   "execution_count": 69
  }
 ],
 "metadata": {
  "kernelspec": {
   "display_name": "Python 3",
   "language": "python",
   "name": "python3"
  },
  "language_info": {
   "codemirror_mode": {
    "name": "ipython",
    "version": 2
   },
   "file_extension": ".py",
   "mimetype": "text/x-python",
   "name": "python",
   "nbconvert_exporter": "python",
   "pygments_lexer": "ipython2",
   "version": "2.7.6"
  }
 },
 "nbformat": 4,
 "nbformat_minor": 5
}
